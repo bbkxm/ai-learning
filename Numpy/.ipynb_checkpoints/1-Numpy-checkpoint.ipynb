{
 "cells": [
  {
   "cell_type": "code",
   "execution_count": 1,
   "id": "e539b5c9-e5ea-4a3f-a448-40d3fa84775f",
   "metadata": {},
   "outputs": [],
   "source": [
    "import numpy as np"
   ]
  },
  {
   "cell_type": "markdown",
   "id": "b7e740be-be93-438a-90b8-c225e4d00f49",
   "metadata": {},
   "source": [
    "# numpy 数字化python，研究数据\n",
    "# 快捷键执行代码shift+enter"
   ]
  },
  {
   "cell_type": "code",
   "execution_count": 2,
   "id": "a0cc15b9-dd54-4784-9c60-61d73590f721",
   "metadata": {
    "scrolled": true
   },
   "outputs": [
    {
     "name": "stdout",
     "output_type": "stream",
     "text": [
      "打印列表 [1, 2, 3, 4, 5]\n",
      "打印列表 1\n"
     ]
    }
   ],
   "source": [
    "# 列表[1,2,3,4,5]\n",
    "l = [1,2,3,4,5]\n",
    "print(\"打印列表\",l)\n",
    "print(\"打印列表\", l[0])"
   ]
  },
  {
   "cell_type": "code",
   "execution_count": 3,
   "id": "b9956fc5-3d0b-4ff7-aac7-f64768cc036f",
   "metadata": {},
   "outputs": [
    {
     "name": "stdout",
     "output_type": "stream",
     "text": [
      "取出两个数据 [1, 2]\n"
     ]
    }
   ],
   "source": [
    "print('取出两个数据',l[0:2]) #左闭右开\n",
    "#print('取出两个数据',l[3,4]) #TypeError: list indices must be integers or slices, not tuple"
   ]
  },
  {
   "cell_type": "code",
   "execution_count": 4,
   "id": "92e433cd-6280-4a96-bf62-3dbca32380a8",
   "metadata": {},
   "outputs": [
    {
     "data": {
      "text/plain": [
       "array([1, 2, 3, 4, 5])"
      ]
     },
     "execution_count": 4,
     "metadata": {},
     "output_type": "execute_result"
    }
   ],
   "source": [
    "# 创建numpy数组np.array(列表)\n",
    "arr = np.array(l)\n",
    "arr"
   ]
  },
  {
   "cell_type": "code",
   "execution_count": 5,
   "id": "c068b2f4-f043-4dc9-9807-c636c0581784",
   "metadata": {},
   "outputs": [
    {
     "data": {
      "text/plain": [
       "array([3, 4])"
      ]
     },
     "execution_count": 5,
     "metadata": {},
     "output_type": "execute_result"
    }
   ],
   "source": [
    "arr[[2,3]] #numpy可以自由的取多个数据"
   ]
  },
  {
   "cell_type": "code",
   "execution_count": 6,
   "id": "a8b5941c-033c-49ee-a4e8-289f6addeca0",
   "metadata": {},
   "outputs": [
    {
     "data": {
      "text/plain": [
       "array([False, False,  True,  True,  True])"
      ]
     },
     "execution_count": 6,
     "metadata": {},
     "output_type": "execute_result"
    }
   ],
   "source": [
    "arr >= 3"
   ]
  },
  {
   "cell_type": "code",
   "execution_count": 7,
   "id": "7ab81296-b073-4b8b-9822-f6756f33e60b",
   "metadata": {},
   "outputs": [
    {
     "data": {
      "text/plain": [
       "array([3, 4, 5])"
      ]
     },
     "execution_count": 7,
     "metadata": {},
     "output_type": "execute_result"
    }
   ],
   "source": [
    "cond = arr >= 3\n",
    "cond\n",
    "arr[cond]"
   ]
  },
  {
   "cell_type": "markdown",
   "id": "fec2a833-9fcc-4e89-a9b1-9ec3f5a20c9d",
   "metadata": {},
   "source": [
    "# 不同的创建方式"
   ]
  },
  {
   "cell_type": "code",
   "execution_count": 8,
   "id": "698d4b96-6695-42d2-b644-6748999d31f4",
   "metadata": {},
   "outputs": [
    {
     "data": {
      "text/plain": [
       "array([1., 1., 1., 1., 1., 1., 1., 1., 1., 1.])"
      ]
     },
     "execution_count": 8,
     "metadata": {},
     "output_type": "execute_result"
    }
   ],
   "source": [
    "np.ones(shape = 10)"
   ]
  },
  {
   "cell_type": "code",
   "execution_count": 9,
   "id": "5d87591d-a0a1-4e3d-b3cf-ba38e090e918",
   "metadata": {},
   "outputs": [
    {
     "data": {
      "text/plain": [
       "array([0., 0., 0., 0., 0.])"
      ]
     },
     "execution_count": 9,
     "metadata": {},
     "output_type": "execute_result"
    }
   ],
   "source": [
    "np.zeros(shape =5)"
   ]
  },
  {
   "cell_type": "code",
   "execution_count": 10,
   "id": "3d82f2e1-80d1-4a11-b3d7-2bbc2a96aaa1",
   "metadata": {},
   "outputs": [
    {
     "data": {
      "text/plain": [
       "array([3.14, 3.14, 3.14, 3.14, 3.14, 3.14, 3.14, 3.14, 3.14, 3.14])"
      ]
     },
     "execution_count": 10,
     "metadata": {},
     "output_type": "execute_result"
    }
   ],
   "source": [
    "np.full(shape=10,fill_value=3.14)"
   ]
  },
  {
   "cell_type": "code",
   "execution_count": 11,
   "id": "bc24db0c-bfb4-421c-a0d6-967021b6f014",
   "metadata": {},
   "outputs": [
    {
     "data": {
      "text/plain": [
       "array([26, 55, 73,  0, 13, 96,  3, 34, 67, 22])"
      ]
     },
     "execution_count": 11,
     "metadata": {},
     "output_type": "execute_result"
    }
   ],
   "source": [
    "np.random.randint(0,100,size=10)"
   ]
  },
  {
   "cell_type": "code",
   "execution_count": 12,
   "id": "70cd5d8c-ca34-41c5-a849-8525d8ebe045",
   "metadata": {},
   "outputs": [
    {
     "data": {
      "text/plain": [
       "array([ 1.04713135, -0.23880098,  0.70652253, -1.70586807,  1.01091261,\n",
       "        0.44672529,  0.82941118, -0.59516579, -0.1602789 , -0.27973125])"
      ]
     },
     "execution_count": 12,
     "metadata": {},
     "output_type": "execute_result"
    }
   ],
   "source": [
    "np.random.randn(10)#正态分布，平均值是0，标准差是1"
   ]
  },
  {
   "cell_type": "code",
   "execution_count": 13,
   "id": "a3078e83-154e-4c39-a766-abe5044f79f4",
   "metadata": {},
   "outputs": [
    {
     "data": {
      "text/plain": [
       "array([ 1.,  3.,  5.,  7.,  9., 11., 13., 15., 17., 19., 21., 23., 25.,\n",
       "       27., 29., 31., 33., 35., 37., 39., 41., 43., 45., 47., 49., 51.,\n",
       "       53., 55., 57., 59., 61., 63., 65., 67., 69., 71., 73., 75., 77.,\n",
       "       79., 81., 83., 85., 87., 89., 91., 93., 95., 97., 99.])"
      ]
     },
     "execution_count": 13,
     "metadata": {},
     "output_type": "execute_result"
    }
   ],
   "source": [
    "np.linspace(1,99,50)#等差数列"
   ]
  },
  {
   "cell_type": "code",
   "execution_count": 14,
   "id": "156329a3-495e-46fe-802d-d29c8ad0f27b",
   "metadata": {},
   "outputs": [
    {
     "data": {
      "text/plain": [
       "array([   1.,    2.,    4.,    8.,   16.,   32.,   64.,  128.,  256.,\n",
       "        512., 1024.])"
      ]
     },
     "execution_count": 14,
     "metadata": {},
     "output_type": "execute_result"
    }
   ],
   "source": [
    "np.set_printoptions(suppress=True)#不显示科学计数法\n",
    "np.logspace(0,10,base=2,num=11)#等比数列,shift+tab可以看参数"
   ]
  },
  {
   "cell_type": "code",
   "execution_count": 15,
   "id": "5e075a5d-33e4-48ad-b4d0-8bb3381ce493",
   "metadata": {},
   "outputs": [
    {
     "data": {
      "text/plain": [
       "array([[3, 0, 0, 3, 0],\n",
       "       [6, 4, 9, 1, 7],\n",
       "       [4, 0, 8, 9, 3]])"
      ]
     },
     "execution_count": 15,
     "metadata": {},
     "output_type": "execute_result"
    }
   ],
   "source": [
    "np.random.randint(0,10,size=(3,5))"
   ]
  },
  {
   "cell_type": "code",
   "execution_count": 16,
   "id": "b9e1505f-a936-4fdc-8ce0-2d15b2889330",
   "metadata": {},
   "outputs": [
    {
     "data": {
      "text/plain": [
       "array([[[0, 0, 4, 5],\n",
       "        [5, 9, 1, 0],\n",
       "        [2, 1, 6, 1]],\n",
       "\n",
       "       [[8, 6, 5, 1],\n",
       "        [8, 9, 1, 7],\n",
       "        [9, 8, 5, 4]]])"
      ]
     },
     "execution_count": 16,
     "metadata": {},
     "output_type": "execute_result"
    }
   ],
   "source": [
    "np.random.randint(0,10,size=(2,3,4))"
   ]
  },
  {
   "cell_type": "markdown",
   "id": "01ff9e4c-1304-4ba2-8113-a8ec6b4aca1a",
   "metadata": {},
   "source": [
    "# 数据查看"
   ]
  },
  {
   "cell_type": "code",
   "execution_count": 21,
   "id": "3d935b78-30f8-4b53-82aa-bbda377908bd",
   "metadata": {},
   "outputs": [
    {
     "data": {
      "text/plain": [
       "array([[0.48088647, 0.13015406, 0.99773912, 0.19811397, 0.66978178],\n",
       "       [0.52406021, 0.05557238, 0.4524001 , 0.77465727, 0.00565481],\n",
       "       [0.09139791, 0.56683453, 0.40525653, 0.31861941, 0.01874544]])"
      ]
     },
     "execution_count": 21,
     "metadata": {},
     "output_type": "execute_result"
    }
   ],
   "source": [
    "arr = np.random.random(size=(3,5))\n",
    "arr"
   ]
  },
  {
   "cell_type": "code",
   "execution_count": 22,
   "id": "1c489ebd-cb04-433a-8ef4-a1a63609c6d5",
   "metadata": {},
   "outputs": [
    {
     "data": {
      "text/plain": [
       "(3, 5)"
      ]
     },
     "execution_count": 22,
     "metadata": {},
     "output_type": "execute_result"
    }
   ],
   "source": [
    "arr.shape"
   ]
  },
  {
   "cell_type": "code",
   "execution_count": 23,
   "id": "6b9a22f5-6b12-4f08-b2d4-7209880c146f",
   "metadata": {},
   "outputs": [
    {
     "data": {
      "text/plain": [
       "dtype('float64')"
      ]
     },
     "execution_count": 23,
     "metadata": {},
     "output_type": "execute_result"
    }
   ],
   "source": [
    "arr.dtype"
   ]
  },
  {
   "cell_type": "code",
   "execution_count": 24,
   "id": "307e7a14-e561-4750-b77a-0e4e17f84732",
   "metadata": {},
   "outputs": [
    {
     "data": {
      "text/plain": [
       "15"
      ]
     },
     "execution_count": 24,
     "metadata": {},
     "output_type": "execute_result"
    }
   ],
   "source": [
    "arr.size"
   ]
  },
  {
   "cell_type": "code",
   "execution_count": 25,
   "id": "9c26034a-30ad-4034-9c84-f1c937f06a6e",
   "metadata": {},
   "outputs": [
    {
     "data": {
      "text/plain": [
       "2"
      ]
     },
     "execution_count": 25,
     "metadata": {},
     "output_type": "execute_result"
    }
   ],
   "source": [
    "arr.ndim"
   ]
  },
  {
   "cell_type": "code",
   "execution_count": 26,
   "id": "099d8a45-7ceb-47ac-a81a-aa2a0f8b9600",
   "metadata": {},
   "outputs": [
    {
     "data": {
      "text/plain": [
       "8"
      ]
     },
     "execution_count": 26,
     "metadata": {},
     "output_type": "execute_result"
    }
   ],
   "source": [
    "arr.itemsize"
   ]
  },
  {
   "cell_type": "code",
   "execution_count": null,
   "id": "3380585e-5403-4587-908d-9d0b2692a0bd",
   "metadata": {},
   "outputs": [],
   "source": []
  }
 ],
 "metadata": {
  "kernelspec": {
   "display_name": "Python 3 (ipykernel)",
   "language": "python",
   "name": "python3"
  },
  "language_info": {
   "codemirror_mode": {
    "name": "ipython",
    "version": 3
   },
   "file_extension": ".py",
   "mimetype": "text/x-python",
   "name": "python",
   "nbconvert_exporter": "python",
   "pygments_lexer": "ipython3",
   "version": "3.10.12"
  }
 },
 "nbformat": 4,
 "nbformat_minor": 5
}
