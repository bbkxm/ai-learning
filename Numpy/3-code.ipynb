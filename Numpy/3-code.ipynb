{
 "cells": [
  {
   "cell_type": "markdown",
   "id": "2052bc81-e8c0-4dae-8932-b8f1d6420735",
   "metadata": {},
   "source": [
    "# 索引切片"
   ]
  },
  {
   "cell_type": "code",
   "execution_count": 2,
   "id": "0d2766ea-7632-40d8-9a61-f95455d00584",
   "metadata": {},
   "outputs": [
    {
     "data": {
      "text/plain": [
       "array([[ 8,  6, 13, 12,  8,  5],\n",
       "       [ 9, 12, 13, 12, 11, -4],\n",
       "       [14, 10, -4, -2, -2,  5],\n",
       "       [-4,  9, 11, 14,  9,  3],\n",
       "       [-4, -5, -1, -4,  9,  0]])"
      ]
     },
     "execution_count": 2,
     "metadata": {},
     "output_type": "execute_result"
    }
   ],
   "source": [
    "import numpy as np\n",
    "np2 = np.random.randint(-5,15,size=(5,6))\n",
    "np2"
   ]
  },
  {
   "cell_type": "code",
   "execution_count": 3,
   "id": "546878ee-6ac8-47cf-9b58-daf4bed786ff",
   "metadata": {},
   "outputs": [
    {
     "data": {
      "text/plain": [
       "array([[ 9, 12, 13, 12, 11, -4],\n",
       "       [-4,  9, 11, 14,  9,  3]])"
      ]
     },
     "execution_count": 3,
     "metadata": {},
     "output_type": "execute_result"
    }
   ],
   "source": [
    "np2[[1,3]]"
   ]
  },
  {
   "cell_type": "code",
   "execution_count": 4,
   "id": "f11e5ad1-c48c-465a-a902-c42ffd7e8825",
   "metadata": {},
   "outputs": [
    {
     "data": {
      "text/plain": [
       "array([[ 6, 12,  5],\n",
       "       [12, 12, -4],\n",
       "       [10, -2,  5],\n",
       "       [ 9, 14,  3],\n",
       "       [-5, -4,  0]])"
      ]
     },
     "execution_count": 4,
     "metadata": {},
     "output_type": "execute_result"
    }
   ],
   "source": [
    "np2[:,[1,3,5]]"
   ]
  },
  {
   "cell_type": "code",
   "execution_count": 7,
   "id": "05300d80-c618-4717-a81b-74b86327580d",
   "metadata": {},
   "outputs": [
    {
     "data": {
      "text/plain": [
       "array([12, 14,  0])"
      ]
     },
     "execution_count": 7,
     "metadata": {},
     "output_type": "execute_result"
    }
   ],
   "source": [
    "np2[[1,3,4],[1,3,5]] #成对出现"
   ]
  },
  {
   "cell_type": "code",
   "execution_count": 12,
   "id": "a1821eaa-5538-4204-b46c-1f5994c1c878",
   "metadata": {
    "editable": true,
    "slideshow": {
     "slide_type": ""
    },
    "tags": []
   },
   "outputs": [
    {
     "data": {
      "text/plain": [
       "array([[12, 12, -4],\n",
       "       [ 9, 14,  3]])"
      ]
     },
     "execution_count": 12,
     "metadata": {},
     "output_type": "execute_result"
    }
   ],
   "source": [
    "np2[[1,3]][:,[1,3,5]]"
   ]
  },
  {
   "cell_type": "code",
   "execution_count": 16,
   "id": "fba87b52-2232-4ef4-a883-fcfcaffc9e62",
   "metadata": {},
   "outputs": [
    {
     "data": {
      "text/plain": [
       "array([[12, 12, -4],\n",
       "       [ 9, 14,  3]])"
      ]
     },
     "execution_count": 16,
     "metadata": {},
     "output_type": "execute_result"
    }
   ],
   "source": [
    "index = np.ix_([1,3],[1,3,5])\n",
    "np2[index] #相当于np2[[1,3]][:,[1,3,5]]"
   ]
  },
  {
   "cell_type": "markdown",
   "id": "69b1c975-8a8d-48b7-b889-0a0c8fb30ec1",
   "metadata": {},
   "source": [
    "# 形状改变"
   ]
  },
  {
   "cell_type": "code",
   "execution_count": 6,
   "id": "8f185668-d33d-4b52-9d1f-8450ce4860bc",
   "metadata": {},
   "outputs": [],
   "source": [
    "import numpy as np"
   ]
  },
  {
   "cell_type": "code",
   "execution_count": 7,
   "id": "04fe4cf6-966f-4965-9b76-c71b87da1ed3",
   "metadata": {},
   "outputs": [],
   "source": [
    "nd2 = np.random.randint(0,100,size=(3,4))"
   ]
  },
  {
   "cell_type": "code",
   "execution_count": 8,
   "id": "9a45ba9e-75f3-494f-b8de-c3845a56faf4",
   "metadata": {},
   "outputs": [
    {
     "data": {
      "text/plain": [
       "array([[87, 39, 49, 61],\n",
       "       [25, 83, 84, 55],\n",
       "       [79, 80, 60, 80]])"
      ]
     },
     "metadata": {},
     "output_type": "display_data"
    }
   ],
   "source": [
    "display(nd2)"
   ]
  },
  {
   "cell_type": "markdown",
   "id": "f79cc767-0590-4209-b9f1-f5de63507aeb",
   "metadata": {},
   "source": [
    "## reshape"
   ]
  },
  {
   "cell_type": "code",
   "execution_count": 9,
   "id": "65e91413-4b49-4896-a14b-c9f8d9e2ba3a",
   "metadata": {},
   "outputs": [
    {
     "data": {
      "text/plain": [
       "array([[87, 39, 49],\n",
       "       [61, 25, 83],\n",
       "       [84, 55, 79],\n",
       "       [80, 60, 80]])"
      ]
     },
     "metadata": {},
     "output_type": "display_data"
    }
   ],
   "source": [
    "display(nd2.reshape(4,3)) #数据重塑reshape"
   ]
  },
  {
   "cell_type": "code",
   "execution_count": 10,
   "id": "df82db0d-0337-4446-baf3-2c1502b83e04",
   "metadata": {},
   "outputs": [
    {
     "name": "stdout",
     "output_type": "stream",
     "text": [
      "2行6列:\n"
     ]
    },
    {
     "data": {
      "text/plain": [
       "array([[87, 39, 49, 61, 25, 83],\n",
       "       [84, 55, 79, 80, 60, 80]])"
      ]
     },
     "metadata": {},
     "output_type": "display_data"
    }
   ],
   "source": [
    "print('2行6列:')\n",
    "display(nd2.reshape(2,6))"
   ]
  },
  {
   "cell_type": "code",
   "execution_count": 11,
   "id": "afe2f11b-e7cd-4711-a654-0ce3cc4dd796",
   "metadata": {},
   "outputs": [
    {
     "data": {
      "text/plain": [
       "array([[87, 39, 49, 61, 25, 83],\n",
       "       [84, 55, 79, 80, 60, 80]])"
      ]
     },
     "metadata": {},
     "output_type": "display_data"
    }
   ],
   "source": [
    "display(nd2.reshape(-1,6)) # -1表示，最后算，相当于x*6=3*4--》x=2，适合不关心总数，灵活，自动算"
   ]
  },
  {
   "cell_type": "code",
   "execution_count": 12,
   "id": "3d09cbfd-7d1a-4a4f-b4fb-c08ea40ed949",
   "metadata": {},
   "outputs": [
    {
     "data": {
      "text/plain": [
       "array([87, 39, 49, 61, 25, 83, 84, 55, 79, 80, 60, 80])"
      ]
     },
     "metadata": {},
     "output_type": "display_data"
    }
   ],
   "source": [
    "display(nd2.reshape(-1)) #等于12=3*4"
   ]
  },
  {
   "cell_type": "code",
   "execution_count": null,
   "id": "dcff0b76-398d-43ab-89ed-22aa9ce3196d",
   "metadata": {},
   "outputs": [],
   "source": [
    "nd2.reshape(3,5) # 不行，必须是3*4=12"
   ]
  },
  {
   "cell_type": "markdown",
   "id": "ceb138e7-dc75-4d70-b999-226faa2bbf21",
   "metadata": {},
   "source": [
    "## 叠加"
   ]
  },
  {
   "cell_type": "code",
   "execution_count": 17,
   "id": "0344885f-3f7a-40ff-99f5-40f32f21e510",
   "metadata": {},
   "outputs": [
    {
     "data": {
      "text/plain": [
       "array([[3, 3, 0, 7],\n",
       "       [7, 6, 2, 3]])"
      ]
     },
     "metadata": {},
     "output_type": "display_data"
    },
    {
     "data": {
      "text/plain": [
       "array([[ 1, -5, -3,  0],\n",
       "       [ 0, -5, -2,  2],\n",
       "       [-3,  3,  4, -5]])"
      ]
     },
     "metadata": {},
     "output_type": "display_data"
    },
    {
     "data": {
      "text/plain": [
       "array([[ 3,  3,  0,  7],\n",
       "       [ 7,  6,  2,  3],\n",
       "       [ 1, -5, -3,  0],\n",
       "       [ 0, -5, -2,  2],\n",
       "       [-3,  3,  4, -5]])"
      ]
     },
     "execution_count": 17,
     "metadata": {},
     "output_type": "execute_result"
    }
   ],
   "source": [
    "arr1 = np.random.randint(0,10,size=(2,4))\n",
    "arr2 = np.random.randint(-5,5,size=(3,4))\n",
    "display(arr1,arr2)\n",
    "np.concatenate([arr1,arr2])"
   ]
  },
  {
   "cell_type": "code",
   "execution_count": 18,
   "id": "ce28297d-9a58-4d35-a9ff-d91835a84d5b",
   "metadata": {},
   "outputs": [
    {
     "data": {
      "text/plain": [
       "array([[1, 8, 0, 5, 1],\n",
       "       [4, 9, 5, 7, 7],\n",
       "       [3, 1, 9, 4, 7]])"
      ]
     },
     "metadata": {},
     "output_type": "display_data"
    },
    {
     "data": {
      "text/plain": [
       "array([[-5,  1,  2, -2],\n",
       "       [ 3,  0, -5, -1],\n",
       "       [-1, -4,  3, -2]])"
      ]
     },
     "metadata": {},
     "output_type": "display_data"
    },
    {
     "data": {
      "text/plain": [
       "array([[ 1,  8,  0,  5,  1, -5,  1,  2, -2],\n",
       "       [ 4,  9,  5,  7,  7,  3,  0, -5, -1],\n",
       "       [ 3,  1,  9,  4,  7, -1, -4,  3, -2]])"
      ]
     },
     "execution_count": 18,
     "metadata": {},
     "output_type": "execute_result"
    }
   ],
   "source": [
    "arr1 = np.random.randint(0,10,size=(3,5))\n",
    "arr2 = np.random.randint(-5,5,size=(3,4))\n",
    "display(arr1,arr2)\n",
    "np.concatenate([arr1,arr2],axis=1) # axis=0代表行叠加，=1代表列叠加，-1表示倒着数 "
   ]
  },
  {
   "cell_type": "markdown",
   "id": "dc3dac55-fb64-4d2e-9f53-1113aabdeb1f",
   "metadata": {},
   "source": [
    "## 拆分"
   ]
  },
  {
   "cell_type": "code",
   "execution_count": 26,
   "id": "37c92650-cb34-403e-b49e-e0db42b3f167",
   "metadata": {},
   "outputs": [
    {
     "data": {
      "text/plain": [
       "array([[59, 14, 47, 79,  4, 57, 60, 99, 62],\n",
       "       [59, 30, 69, 83, 78, 68, 22, 88, 16],\n",
       "       [36, 34, 10, 45, 66, 91, 74, 26, 96],\n",
       "       [28, 13, 95, 62, 34, 78, 31, 52, 39],\n",
       "       [92, 31, 99, 28, 24, 38, 64, 67,  7],\n",
       "       [22, 65, 60,  7, 65, 91, 55, 54, 37]])"
      ]
     },
     "metadata": {},
     "output_type": "display_data"
    },
    {
     "data": {
      "text/plain": [
       "[array([[59, 14, 47, 79,  4, 57, 60, 99, 62],\n",
       "        [59, 30, 69, 83, 78, 68, 22, 88, 16]]),\n",
       " array([[36, 34, 10, 45, 66, 91, 74, 26, 96],\n",
       "        [28, 13, 95, 62, 34, 78, 31, 52, 39]]),\n",
       " array([[92, 31, 99, 28, 24, 38, 64, 67,  7],\n",
       "        [22, 65, 60,  7, 65, 91, 55, 54, 37]])]"
      ]
     },
     "execution_count": 26,
     "metadata": {},
     "output_type": "execute_result"
    }
   ],
   "source": [
    "nd = np.random.randint(0,100,size=(6,9))\n",
    "display(nd)\n",
    "# 行拆分\n",
    "np.split(nd, 3)"
   ]
  },
  {
   "cell_type": "code",
   "execution_count": null,
   "id": "d9a10985-7d52-4b0b-a7ba-04f544144212",
   "metadata": {},
   "outputs": [],
   "source": [
    "# 列表，表示按节点进行拆分"
   ]
  },
  {
   "cell_type": "code",
   "execution_count": 28,
   "id": "8b5b1214-f941-4bbb-aa27-f91b46a3c216",
   "metadata": {},
   "outputs": [
    {
     "data": {
      "text/plain": [
       "[array([[59],\n",
       "        [59],\n",
       "        [36],\n",
       "        [28],\n",
       "        [92],\n",
       "        [22]]),\n",
       " array([[14, 47, 79],\n",
       "        [30, 69, 83],\n",
       "        [34, 10, 45],\n",
       "        [13, 95, 62],\n",
       "        [31, 99, 28],\n",
       "        [65, 60,  7]]),\n",
       " array([[ 4],\n",
       "        [78],\n",
       "        [66],\n",
       "        [34],\n",
       "        [24],\n",
       "        [65]]),\n",
       " array([[57, 60, 99, 62],\n",
       "        [68, 22, 88, 16],\n",
       "        [91, 74, 26, 96],\n",
       "        [78, 31, 52, 39],\n",
       "        [38, 64, 67,  7],\n",
       "        [91, 55, 54, 37]])]"
      ]
     },
     "execution_count": 28,
     "metadata": {},
     "output_type": "execute_result"
    }
   ],
   "source": [
    "np.split(nd,[1,4,5])\n",
    "np.split(nd,[1,4,5], axis=1)"
   ]
  },
  {
   "cell_type": "markdown",
   "id": "92e259e4-75cd-49d9-a8e2-f525175ffb79",
   "metadata": {},
   "source": [
    "## 转置"
   ]
  },
  {
   "cell_type": "code",
   "execution_count": 32,
   "id": "93f81256-b1f2-45a1-a9e1-6b55e2013e74",
   "metadata": {},
   "outputs": [
    {
     "data": {
      "text/plain": [
       "array([[9, 6, 5, 2, 0],\n",
       "       [7, 0, 7, 0, 2],\n",
       "       [4, 6, 6, 7, 9]])"
      ]
     },
     "metadata": {},
     "output_type": "display_data"
    },
    {
     "data": {
      "text/plain": [
       "array([[9, 6, 5],\n",
       "       [2, 0, 7],\n",
       "       [0, 7, 0],\n",
       "       [2, 4, 6],\n",
       "       [6, 7, 9]])"
      ]
     },
     "metadata": {},
     "output_type": "display_data"
    },
    {
     "data": {
      "text/plain": [
       "array([[9, 7, 4],\n",
       "       [6, 0, 6],\n",
       "       [5, 7, 6],\n",
       "       [2, 0, 7],\n",
       "       [0, 2, 9]])"
      ]
     },
     "metadata": {},
     "output_type": "display_data"
    }
   ],
   "source": [
    "A = np.random.randint(0,10,size=(3,5))\n",
    "display(A)\n",
    "display(A.reshape(5,3))\n",
    "display(A.T) #列变行，行变列"
   ]
  },
  {
   "cell_type": "code",
   "execution_count": 33,
   "id": "5f4da754-b214-4773-a199-d52822926a01",
   "metadata": {},
   "outputs": [
    {
     "data": {
      "text/plain": [
       "array([[9, 7, 4],\n",
       "       [6, 0, 6],\n",
       "       [5, 7, 6],\n",
       "       [2, 0, 7],\n",
       "       [0, 2, 9]])"
      ]
     },
     "execution_count": 33,
     "metadata": {},
     "output_type": "execute_result"
    }
   ],
   "source": [
    "np.transpose(A,axes=[1,0])"
   ]
  },
  {
   "cell_type": "markdown",
   "id": "04efdb49-bc80-4abc-80a4-e0edcbd64dcf",
   "metadata": {},
   "source": [
    "# 广播机制"
   ]
  },
  {
   "cell_type": "code",
   "execution_count": 39,
   "id": "08104409-de3b-444b-be62-8e1454071b45",
   "metadata": {},
   "outputs": [
    {
     "data": {
      "text/plain": [
       "array([[6, 3, 6],\n",
       "       [7, 4, 9],\n",
       "       [3, 4, 1],\n",
       "       [6, 4, 3],\n",
       "       [2, 8, 0]])"
      ]
     },
     "metadata": {},
     "output_type": "display_data"
    },
    {
     "data": {
      "text/plain": [
       "array([1, 2, 3])"
      ]
     },
     "metadata": {},
     "output_type": "display_data"
    },
    {
     "data": {
      "text/plain": [
       "array([[ 7,  5,  9],\n",
       "       [ 8,  6, 12],\n",
       "       [ 4,  6,  4],\n",
       "       [ 7,  6,  6],\n",
       "       [ 3, 10,  3]])"
      ]
     },
     "execution_count": 39,
     "metadata": {},
     "output_type": "execute_result"
    }
   ],
   "source": [
    "arr1 = np.random.randint(0,10,size=(5,3))\n",
    "arr2 = np.arange(1,4)\n",
    "display(arr1,arr2)\n",
    "arr1 + arr2 #五行+一行，广播机制arr2变身，变成了5份，每一份和每一行相加"
   ]
  },
  {
   "cell_type": "code",
   "execution_count": 41,
   "id": "3482d99b-3097-4434-aa34-4d5face1c244",
   "metadata": {},
   "outputs": [
    {
     "data": {
      "text/plain": [
       "array([[4, 4, 8, 6, 6],\n",
       "       [8, 0, 0, 8, 4],\n",
       "       [7, 5, 4, 9, 4],\n",
       "       [3, 7, 5, 1, 5]])"
      ]
     },
     "metadata": {},
     "output_type": "display_data"
    },
    {
     "data": {
      "text/plain": [
       "array([5.6, 4. , 5.8, 4.2])"
      ]
     },
     "metadata": {},
     "output_type": "display_data"
    }
   ],
   "source": [
    "arr3 = np.random.randint(0,10,size = (4,5))\n",
    "arr4 = arr3.mean(axis=1)\n",
    "display(arr3,arr4)"
   ]
  },
  {
   "cell_type": "code",
   "execution_count": 44,
   "id": "b5d02e9b-6679-4078-ad8c-d5278b57041c",
   "metadata": {},
   "outputs": [
    {
     "data": {
      "text/plain": [
       "array([[5.6],\n",
       "       [4. ],\n",
       "       [5.8],\n",
       "       [4.2]])"
      ]
     },
     "metadata": {},
     "output_type": "display_data"
    },
    {
     "data": {
      "text/plain": [
       "array([[-1.6, -1.6,  2.4,  0.4,  0.4],\n",
       "       [ 4. , -4. , -4. ,  4. ,  0. ],\n",
       "       [ 1.2, -0.8, -1.8,  3.2, -1.8],\n",
       "       [-1.2,  2.8,  0.8, -3.2,  0.8]])"
      ]
     },
     "execution_count": 44,
     "metadata": {},
     "output_type": "execute_result"
    }
   ],
   "source": [
    "display(arr4.reshape(4,1))\n",
    "arr3-arr4.reshape(4,1) #行相同或者列相同，可广播"
   ]
  },
  {
   "cell_type": "markdown",
   "id": "a26f2f88-240c-4f3e-9146-fb9d2afd4a13",
   "metadata": {},
   "source": [
    "# 通用函数"
   ]
  },
  {
   "cell_type": "markdown",
   "id": "36769435-76d8-4134-913b-8918b56e167f",
   "metadata": {},
   "source": [
    "## 元素级函数"
   ]
  },
  {
   "cell_type": "code",
   "execution_count": 48,
   "id": "6bdc635f-460f-4832-b6ee-2156b53bb899",
   "metadata": {},
   "outputs": [
    {
     "data": {
      "text/plain": [
       "1.0"
      ]
     },
     "execution_count": 48,
     "metadata": {},
     "output_type": "execute_result"
    }
   ],
   "source": [
    "# abs、sqrt、square、exp、log、sin、cos、tan, maxinmum、minimum、all、any、inner、clip、round、 trace、ceil、floor\n",
    "np.sin(np.pi/2) #90°"
   ]
  },
  {
   "cell_type": "code",
   "execution_count": 49,
   "id": "11e4e69e-beed-472e-9d48-150761f879ad",
   "metadata": {},
   "outputs": [
    {
     "data": {
      "text/plain": [
       "0.0"
      ]
     },
     "execution_count": 49,
     "metadata": {},
     "output_type": "execute_result"
    }
   ],
   "source": [
    "np.cos(np.pi/2).round(5) #保留5位小数"
   ]
  },
  {
   "cell_type": "markdown",
   "id": "fede2e64-41e6-4924-a01a-5fa078ec674b",
   "metadata": {},
   "source": [
    "## where函数"
   ]
  },
  {
   "cell_type": "code",
   "execution_count": 50,
   "id": "39cbac51-f907-4424-bbe1-2c0b4649b3a5",
   "metadata": {},
   "outputs": [
    {
     "data": {
      "text/plain": [
       "32.0"
      ]
     },
     "execution_count": 50,
     "metadata": {},
     "output_type": "execute_result"
    }
   ],
   "source": [
    "np.sqrt(1024)"
   ]
  },
  {
   "cell_type": "code",
   "execution_count": 51,
   "id": "f98f8b18-6109-45bf-a30f-2ed687694c45",
   "metadata": {},
   "outputs": [
    {
     "data": {
      "text/plain": [
       "64"
      ]
     },
     "execution_count": 51,
     "metadata": {},
     "output_type": "execute_result"
    }
   ],
   "source": [
    "np.square(8)"
   ]
  },
  {
   "cell_type": "code",
   "execution_count": 55,
   "id": "1c60d8a0-cb74-459c-bce9-2d1f11443b18",
   "metadata": {},
   "outputs": [
    {
     "data": {
      "text/plain": [
       "8"
      ]
     },
     "execution_count": 55,
     "metadata": {},
     "output_type": "execute_result"
    }
   ],
   "source": [
    "def fun(x):\n",
    "    return x**3\n",
    "fun(3)\n",
    "np.power(2,3)"
   ]
  },
  {
   "cell_type": "code",
   "execution_count": 56,
   "id": "1cb28195-dba8-4752-8148-6411016b579b",
   "metadata": {},
   "outputs": [
    {
     "data": {
      "text/plain": [
       "2.0"
      ]
     },
     "execution_count": 56,
     "metadata": {},
     "output_type": "execute_result"
    }
   ],
   "source": [
    "def fun2(x):\n",
    "    return x**(1/3)\n",
    "fun2(27)\n",
    "np.power(8,1/3)"
   ]
  },
  {
   "cell_type": "code",
   "execution_count": 62,
   "id": "bfebfc77-ef42-4a99-84d3-3dcb8d2241a5",
   "metadata": {},
   "outputs": [
    {
     "data": {
      "text/plain": [
       "array([2, 5, 3, 9, 3, 9, 8])"
      ]
     },
     "execution_count": 62,
     "metadata": {},
     "output_type": "execute_result"
    }
   ],
   "source": [
    "x=np.array([1,5,2,9,3,6,8])\n",
    "y=np.array([2,4,3,7,1,9,0])\n",
    "np.maximum(x,y)"
   ]
  },
  {
   "cell_type": "code",
   "execution_count": null,
   "id": "8af4784c-2c77-4ae1-ad22-8cff54cefb80",
   "metadata": {},
   "outputs": [],
   "source": []
  }
 ],
 "metadata": {
  "kernelspec": {
   "display_name": "Python 3 (ipykernel)",
   "language": "python",
   "name": "python3"
  },
  "language_info": {
   "codemirror_mode": {
    "name": "ipython",
    "version": 3
   },
   "file_extension": ".py",
   "mimetype": "text/x-python",
   "name": "python",
   "nbconvert_exporter": "python",
   "pygments_lexer": "ipython3",
   "version": "3.10.12"
  }
 },
 "nbformat": 4,
 "nbformat_minor": 5
}
