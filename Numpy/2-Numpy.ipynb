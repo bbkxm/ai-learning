{
 "cells": [
  {
   "cell_type": "markdown",
   "id": "fbf9028b-a109-4778-ab95-2d2493b07cf1",
   "metadata": {},
   "source": [
    "# 创建一个长度为10的唯一全为0的ndarray的对象，然后让第五个元素等于1"
   ]
  },
  {
   "cell_type": "code",
   "execution_count": 1,
   "id": "d917c205-f659-4811-97b9-c4f433ec4b12",
   "metadata": {},
   "outputs": [],
   "source": [
    "import numpy as np"
   ]
  },
  {
   "cell_type": "code",
   "execution_count": 2,
   "id": "414ebeff-5efa-423a-acbb-48f8cc19e6b1",
   "metadata": {},
   "outputs": [],
   "source": [
    "arr = np.zeros(10,dtype='int')"
   ]
  },
  {
   "cell_type": "code",
   "execution_count": 3,
   "id": "f0ccb1db-da15-43e4-9626-af03fa2036aa",
   "metadata": {},
   "outputs": [
    {
     "data": {
      "text/plain": [
       "array([0, 0, 0, 0, 1, 0, 0, 0, 0, 0])"
      ]
     },
     "execution_count": 3,
     "metadata": {},
     "output_type": "execute_result"
    }
   ],
   "source": [
    "arr[4] = 1\n",
    "arr"
   ]
  },
  {
   "cell_type": "code",
   "execution_count": 5,
   "id": "e0c19b7c-abb3-4b6a-ada2-8d013c1c19b5",
   "metadata": {},
   "outputs": [
    {
     "data": {
      "text/plain": [
       "array([10, 11, 12, 13, 14, 15, 16, 17, 18, 19, 20, 21, 22, 23, 24, 25, 26,\n",
       "       27, 28, 29, 30, 31, 32, 33, 34, 35, 36, 37, 38, 39, 40, 41, 42, 43,\n",
       "       44, 45, 46, 47, 48, 49])"
      ]
     },
     "execution_count": 5,
     "metadata": {},
     "output_type": "execute_result"
    }
   ],
   "source": [
    "arr = np.arange(10,50)\n",
    "arr"
   ]
  },
  {
   "cell_type": "code",
   "execution_count": 6,
   "id": "c4fc8269-fccd-4c0e-9bbe-27c79d4ef40e",
   "metadata": {},
   "outputs": [
    {
     "data": {
      "text/plain": [
       "array([49, 48, 47, 46, 45, 44, 43, 42, 41, 40, 39, 38, 37, 36, 35, 34, 33,\n",
       "       32, 31, 30, 29, 28, 27, 26, 25, 24, 23, 22, 21, 20, 19, 18, 17, 16,\n",
       "       15, 14, 13, 12, 11, 10])"
      ]
     },
     "execution_count": 6,
     "metadata": {},
     "output_type": "execute_result"
    }
   ],
   "source": [
    "arr = arr[::-1] # 颠倒元素\n",
    "arr"
   ]
  },
  {
   "cell_type": "code",
   "execution_count": 8,
   "id": "6fc15987-f141-4322-845d-38b9c4bacba7",
   "metadata": {},
   "outputs": [
    {
     "data": {
      "text/plain": [
       "array([[0, 0, 0, 0, 0, 0, 0, 0, 0, 0],\n",
       "       [0, 0, 0, 0, 0, 0, 0, 0, 0, 0],\n",
       "       [0, 0, 0, 0, 0, 0, 0, 0, 0, 0],\n",
       "       [0, 0, 0, 0, 0, 0, 0, 0, 0, 0],\n",
       "       [0, 0, 0, 0, 0, 0, 0, 0, 0, 0],\n",
       "       [0, 0, 0, 0, 0, 0, 0, 0, 0, 0],\n",
       "       [0, 0, 0, 0, 0, 0, 0, 0, 0, 0],\n",
       "       [0, 0, 0, 0, 0, 0, 0, 0, 0, 0],\n",
       "       [0, 0, 0, 0, 0, 0, 0, 0, 0, 0],\n",
       "       [0, 0, 0, 0, 0, 0, 0, 0, 0, 0]])"
      ]
     },
     "execution_count": 8,
     "metadata": {},
     "output_type": "execute_result"
    }
   ],
   "source": [
    "arr = np.full(shape=(10,10),fill_value=0,dtype=np.int64)\n",
    "arr"
   ]
  },
  {
   "cell_type": "code",
   "execution_count": 10,
   "id": "c8d0662e-3b64-4e9f-8e6e-1475e2286443",
   "metadata": {},
   "outputs": [
    {
     "data": {
      "text/plain": [
       "array([[1, 1, 1, 1, 1, 1, 1, 1, 1, 1],\n",
       "       [0, 0, 0, 0, 0, 0, 0, 0, 0, 0],\n",
       "       [0, 0, 0, 0, 0, 0, 0, 0, 0, 0],\n",
       "       [0, 0, 0, 0, 0, 0, 0, 0, 0, 0],\n",
       "       [0, 0, 0, 0, 0, 0, 0, 0, 0, 0],\n",
       "       [0, 0, 0, 0, 0, 0, 0, 0, 0, 0],\n",
       "       [0, 0, 0, 0, 0, 0, 0, 0, 0, 0],\n",
       "       [0, 0, 0, 0, 0, 0, 0, 0, 0, 0],\n",
       "       [0, 0, 0, 0, 0, 0, 0, 0, 0, 0],\n",
       "       [1, 1, 1, 1, 1, 1, 1, 1, 1, 1]])"
      ]
     },
     "execution_count": 10,
     "metadata": {},
     "output_type": "execute_result"
    }
   ],
   "source": [
    "arr[[0,-1]] = 1\n",
    "arr"
   ]
  },
  {
   "cell_type": "code",
   "execution_count": 13,
   "id": "ab4f51b0-7d6f-408b-90e0-300e9f4bc2c1",
   "metadata": {},
   "outputs": [
    {
     "data": {
      "text/plain": [
       "array([[0.89696505, 0.69816239, 0.36846131, 0.1555776 , 0.30628096,\n",
       "        0.54402912, 0.27125631, 0.56349329, 0.059232  , 0.99311829],\n",
       "       [0.59540337, 0.28568539, 0.12633742, 0.96989046, 0.7938038 ,\n",
       "        0.55117803, 0.96470013, 0.84953366, 0.3813602 , 0.94944127],\n",
       "       [0.43358118, 0.81781609, 0.36840789, 0.97097118, 0.4279031 ,\n",
       "        0.17111352, 0.36975852, 0.80857767, 0.95746159, 0.00946999],\n",
       "       [0.9572701 , 0.18069766, 0.91420516, 0.81045414, 0.09480563,\n",
       "        0.74984945, 0.54542229, 0.36081999, 0.26654503, 0.20637944],\n",
       "       [0.07027506, 0.47212056, 0.06878082, 0.78257018, 0.76903433,\n",
       "        0.94940034, 0.40796038, 0.97362897, 0.42379613, 0.70901157],\n",
       "       [0.75910292, 0.02871791, 0.75047182, 0.70350538, 0.02845451,\n",
       "        0.70509439, 0.77803959, 0.89998088, 0.85265661, 0.420835  ],\n",
       "       [0.05266924, 0.93706961, 0.34223141, 0.88631802, 0.10992512,\n",
       "        0.71198084, 0.16217   , 0.33496051, 0.14038749, 0.20642032],\n",
       "       [0.93586165, 0.02798731, 0.36647387, 0.56292911, 0.49568158,\n",
       "        0.37827081, 0.49133991, 0.36705749, 0.49604216, 0.99066405],\n",
       "       [0.23752456, 0.33180541, 0.32784514, 0.27634616, 0.20660938,\n",
       "        0.66674237, 0.68284073, 0.87672319, 0.84984963, 0.65471947],\n",
       "       [0.69600668, 0.61284197, 0.99644395, 0.41310138, 0.66654757,\n",
       "        0.50564211, 0.46609713, 0.03944681, 0.50269955, 0.65202985]])"
      ]
     },
     "metadata": {},
     "output_type": "display_data"
    },
    {
     "name": "stdout",
     "output_type": "stream",
     "text": [
      "最大值 0.9964439504219612\n",
      "最小值 0.009469988571069177\n"
     ]
    }
   ],
   "source": [
    "arr = np.random.random(size=(10,10))\n",
    "display(arr)\n",
    "print('最大值',arr.max())\n",
    "print('最小值',arr.min())"
   ]
  },
  {
   "cell_type": "code",
   "execution_count": 2,
   "id": "90651ee2-ba4a-43ce-bc98-ab795f63ea1b",
   "metadata": {},
   "outputs": [
    {
     "data": {
      "text/plain": [
       "array([[3.14, 3.14, 3.14, 3.14, 3.14],\n",
       "       [3.14, 3.14, 3.14, 3.14, 3.14],\n",
       "       [3.14, 3.14, 3.14, 3.14, 3.14],\n",
       "       [3.14, 3.14, 3.14, 3.14, 3.14],\n",
       "       [3.14, 3.14, 3.14, 3.14, 3.14]])"
      ]
     },
     "execution_count": 2,
     "metadata": {},
     "output_type": "execute_result"
    }
   ],
   "source": [
    "import numpy as np\n",
    "arr = np.full(shape=(5,5),fill_value=3.14)\n",
    "arr"
   ]
  },
  {
   "cell_type": "code",
   "execution_count": 7,
   "id": "b5399e55-f686-40d5-926d-8fe8bae4ada9",
   "metadata": {},
   "outputs": [
    {
     "data": {
      "text/plain": [
       "array([[0., 1., 2., 3., 4.],\n",
       "       [0., 1., 2., 3., 4.],\n",
       "       [0., 1., 2., 3., 4.],\n",
       "       [0., 1., 2., 3., 4.],\n",
       "       [0., 1., 2., 3., 4.]])"
      ]
     },
     "execution_count": 7,
     "metadata": {},
     "output_type": "execute_result"
    }
   ],
   "source": [
    "arr2 = np.arange(0,5)\n",
    "arr2\n",
    "arr[:] = arr2\n",
    "arr"
   ]
  },
  {
   "cell_type": "code",
   "execution_count": 8,
   "id": "b2612120-f8d4-4039-a4e6-e874a9315822",
   "metadata": {},
   "outputs": [
    {
     "data": {
      "text/plain": [
       "array([0.        , 0.09090909, 0.18181818, 0.27272727, 0.36363636,\n",
       "       0.45454545, 0.54545455, 0.63636364, 0.72727273, 0.81818182,\n",
       "       0.90909091, 1.        ])"
      ]
     },
     "metadata": {},
     "output_type": "display_data"
    }
   ],
   "source": [
    "arr = np.linspace(0,1,12) # 等差\n",
    "display(arr)"
   ]
  },
  {
   "cell_type": "code",
   "execution_count": 21,
   "id": "3365aa5b-4bfb-405e-a373-b4dad1addb6b",
   "metadata": {},
   "outputs": [
    {
     "data": {
      "text/plain": [
       "array([      0.25      ,       1.14869835,       5.27803164,\n",
       "            24.25146506,     111.4304721 ,     512.        ,\n",
       "          2352.53423103,   10809.40880505,   49667.00045141,\n",
       "        228209.6068647 , 1048576.        ])"
      ]
     },
     "execution_count": 21,
     "metadata": {},
     "output_type": "execute_result"
    }
   ],
   "source": [
    "np.set_printoptions(suppress=True)\n",
    "np.logspace(-1,10,base=4,num=11) #等比"
   ]
  },
  {
   "cell_type": "code",
   "execution_count": 22,
   "id": "27b542a1-45ba-44c8-9f3c-ec3aa5af0789",
   "metadata": {},
   "outputs": [
    {
     "name": "stdout",
     "output_type": "stream",
     "text": [
      "未排序:  [-0.55065904 -0.17192178 -1.57712187 -1.84335324  2.18526848 -0.97401658\n",
      "  1.24778669  0.28482622  0.18886311 -0.42497993]\n"
     ]
    }
   ],
   "source": [
    "arr = np.random.randn(10) \n",
    "print('未排序: ', arr)"
   ]
  },
  {
   "cell_type": "code",
   "execution_count": 23,
   "id": "622819b7-7abc-4111-b647-5212fa964e10",
   "metadata": {},
   "outputs": [
    {
     "name": "stdout",
     "output_type": "stream",
     "text": [
      "排序后:  [-1.84335324 -1.57712187 -0.97401658 -0.55065904 -0.42497993 -0.17192178\n",
      "  0.18886311  0.28482622  1.24778669  2.18526848]\n"
     ]
    }
   ],
   "source": [
    "arr2 = np.sort(arr)\n",
    "print('排序后: ', arr2)"
   ]
  },
  {
   "cell_type": "code",
   "execution_count": null,
   "id": "1565d4c9-d1f0-48e4-8057-10c55d23bec8",
   "metadata": {},
   "outputs": [],
   "source": []
  }
 ],
 "metadata": {
  "kernelspec": {
   "display_name": "Python 3 (ipykernel)",
   "language": "python",
   "name": "python3"
  },
  "language_info": {
   "codemirror_mode": {
    "name": "ipython",
    "version": 3
   },
   "file_extension": ".py",
   "mimetype": "text/x-python",
   "name": "python",
   "nbconvert_exporter": "python",
   "pygments_lexer": "ipython3",
   "version": "3.10.12"
  }
 },
 "nbformat": 4,
 "nbformat_minor": 5
}
