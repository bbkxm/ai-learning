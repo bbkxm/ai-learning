{
 "cells": [
  {
   "cell_type": "code",
   "execution_count": 1,
   "id": "e539b5c9-e5ea-4a3f-a448-40d3fa84775f",
   "metadata": {},
   "outputs": [],
   "source": [
    "import numpy as np"
   ]
  },
  {
   "cell_type": "markdown",
   "id": "b7e740be-be93-438a-90b8-c225e4d00f49",
   "metadata": {},
   "source": [
    "# numpy 数字化python，研究数据\n",
    "# 快捷键执行代码shift+enter"
   ]
  },
  {
   "cell_type": "code",
   "execution_count": 2,
   "id": "a0cc15b9-dd54-4784-9c60-61d73590f721",
   "metadata": {
    "scrolled": true
   },
   "outputs": [
    {
     "name": "stdout",
     "output_type": "stream",
     "text": [
      "打印列表 [1, 2, 3, 4, 5]\n",
      "打印列表 1\n"
     ]
    }
   ],
   "source": [
    "# 列表[1,2,3,4,5]\n",
    "l = [1,2,3,4,5]\n",
    "print(\"打印列表\",l)\n",
    "print(\"打印列表\", l[0])"
   ]
  },
  {
   "cell_type": "code",
   "execution_count": 3,
   "id": "b9956fc5-3d0b-4ff7-aac7-f64768cc036f",
   "metadata": {},
   "outputs": [
    {
     "name": "stdout",
     "output_type": "stream",
     "text": [
      "取出两个数据 [1, 2]\n"
     ]
    }
   ],
   "source": [
    "print('取出两个数据',l[0:2]) #左闭右开\n",
    "#print('取出两个数据',l[3,4]) #TypeError: list indices must be integers or slices, not tuple"
   ]
  },
  {
   "cell_type": "code",
   "execution_count": 4,
   "id": "92e433cd-6280-4a96-bf62-3dbca32380a8",
   "metadata": {},
   "outputs": [
    {
     "data": {
      "text/plain": [
       "array([1, 2, 3, 4, 5])"
      ]
     },
     "execution_count": 4,
     "metadata": {},
     "output_type": "execute_result"
    }
   ],
   "source": [
    "# 创建numpy数组np.array(列表)\n",
    "arr = np.array(l)\n",
    "arr"
   ]
  },
  {
   "cell_type": "code",
   "execution_count": 5,
   "id": "c068b2f4-f043-4dc9-9807-c636c0581784",
   "metadata": {},
   "outputs": [
    {
     "data": {
      "text/plain": [
       "array([3, 4])"
      ]
     },
     "execution_count": 5,
     "metadata": {},
     "output_type": "execute_result"
    }
   ],
   "source": [
    "arr[[2,3]] #numpy可以自由的取多个数据"
   ]
  },
  {
   "cell_type": "code",
   "execution_count": 6,
   "id": "a8b5941c-033c-49ee-a4e8-289f6addeca0",
   "metadata": {},
   "outputs": [
    {
     "data": {
      "text/plain": [
       "array([False, False,  True,  True,  True])"
      ]
     },
     "execution_count": 6,
     "metadata": {},
     "output_type": "execute_result"
    }
   ],
   "source": [
    "arr >= 3"
   ]
  },
  {
   "cell_type": "code",
   "execution_count": 7,
   "id": "7ab81296-b073-4b8b-9822-f6756f33e60b",
   "metadata": {},
   "outputs": [
    {
     "data": {
      "text/plain": [
       "array([3, 4, 5])"
      ]
     },
     "execution_count": 7,
     "metadata": {},
     "output_type": "execute_result"
    }
   ],
   "source": [
    "cond = arr >= 3\n",
    "cond\n",
    "arr[cond]"
   ]
  },
  {
   "cell_type": "markdown",
   "id": "fec2a833-9fcc-4e89-a9b1-9ec3f5a20c9d",
   "metadata": {},
   "source": [
    "# 不同的创建方式"
   ]
  },
  {
   "cell_type": "code",
   "execution_count": 8,
   "id": "698d4b96-6695-42d2-b644-6748999d31f4",
   "metadata": {},
   "outputs": [
    {
     "data": {
      "text/plain": [
       "array([1., 1., 1., 1., 1., 1., 1., 1., 1., 1.])"
      ]
     },
     "execution_count": 8,
     "metadata": {},
     "output_type": "execute_result"
    }
   ],
   "source": [
    "np.ones(shape = 10)"
   ]
  },
  {
   "cell_type": "code",
   "execution_count": 9,
   "id": "5d87591d-a0a1-4e3d-b3cf-ba38e090e918",
   "metadata": {},
   "outputs": [
    {
     "data": {
      "text/plain": [
       "array([0., 0., 0., 0., 0.])"
      ]
     },
     "execution_count": 9,
     "metadata": {},
     "output_type": "execute_result"
    }
   ],
   "source": [
    "np.zeros(shape =5)"
   ]
  },
  {
   "cell_type": "code",
   "execution_count": 10,
   "id": "3d82f2e1-80d1-4a11-b3d7-2bbc2a96aaa1",
   "metadata": {},
   "outputs": [
    {
     "data": {
      "text/plain": [
       "array([3.14, 3.14, 3.14, 3.14, 3.14, 3.14, 3.14, 3.14, 3.14, 3.14])"
      ]
     },
     "execution_count": 10,
     "metadata": {},
     "output_type": "execute_result"
    }
   ],
   "source": [
    "np.full(shape=10,fill_value=3.14)"
   ]
  },
  {
   "cell_type": "code",
   "execution_count": 11,
   "id": "bc24db0c-bfb4-421c-a0d6-967021b6f014",
   "metadata": {},
   "outputs": [
    {
     "data": {
      "text/plain": [
       "array([97, 63, 70, 90, 25, 94, 28, 87, 53, 64])"
      ]
     },
     "execution_count": 11,
     "metadata": {},
     "output_type": "execute_result"
    }
   ],
   "source": [
    "np.random.randint(0,100,size=10)"
   ]
  },
  {
   "cell_type": "code",
   "execution_count": 12,
   "id": "70cd5d8c-ca34-41c5-a849-8525d8ebe045",
   "metadata": {},
   "outputs": [
    {
     "data": {
      "text/plain": [
       "array([-0.38285893, -0.58689199,  1.16765503, -1.27959516, -1.42587913,\n",
       "       -0.52581999,  0.78906873,  2.47386659,  0.2762819 , -0.85214182])"
      ]
     },
     "execution_count": 12,
     "metadata": {},
     "output_type": "execute_result"
    }
   ],
   "source": [
    "np.random.randn(10)#正态分布，平均值是0，标准差是1"
   ]
  },
  {
   "cell_type": "code",
   "execution_count": 13,
   "id": "a3078e83-154e-4c39-a766-abe5044f79f4",
   "metadata": {},
   "outputs": [
    {
     "data": {
      "text/plain": [
       "array([ 1.,  3.,  5.,  7.,  9., 11., 13., 15., 17., 19., 21., 23., 25.,\n",
       "       27., 29., 31., 33., 35., 37., 39., 41., 43., 45., 47., 49., 51.,\n",
       "       53., 55., 57., 59., 61., 63., 65., 67., 69., 71., 73., 75., 77.,\n",
       "       79., 81., 83., 85., 87., 89., 91., 93., 95., 97., 99.])"
      ]
     },
     "execution_count": 13,
     "metadata": {},
     "output_type": "execute_result"
    }
   ],
   "source": [
    "np.linspace(1,99,50)#等差数列"
   ]
  },
  {
   "cell_type": "code",
   "execution_count": 14,
   "id": "156329a3-495e-46fe-802d-d29c8ad0f27b",
   "metadata": {},
   "outputs": [
    {
     "data": {
      "text/plain": [
       "array([   1.,    2.,    4.,    8.,   16.,   32.,   64.,  128.,  256.,\n",
       "        512., 1024.])"
      ]
     },
     "execution_count": 14,
     "metadata": {},
     "output_type": "execute_result"
    }
   ],
   "source": [
    "np.set_printoptions(suppress=True)#不显示科学计数法\n",
    "np.logspace(0,10,base=2,num=11)#等比数列,shift+tab可以看参数"
   ]
  },
  {
   "cell_type": "code",
   "execution_count": 15,
   "id": "5e075a5d-33e4-48ad-b4d0-8bb3381ce493",
   "metadata": {},
   "outputs": [
    {
     "data": {
      "text/plain": [
       "array([[7, 7, 5, 9, 7],\n",
       "       [9, 0, 9, 4, 4],\n",
       "       [9, 8, 0, 1, 9]])"
      ]
     },
     "execution_count": 15,
     "metadata": {},
     "output_type": "execute_result"
    }
   ],
   "source": [
    "np.random.randint(0,10,size=(3,5))"
   ]
  },
  {
   "cell_type": "code",
   "execution_count": 16,
   "id": "b9e1505f-a936-4fdc-8ce0-2d15b2889330",
   "metadata": {},
   "outputs": [
    {
     "data": {
      "text/plain": [
       "array([[[4, 6, 3, 3],\n",
       "        [3, 4, 1, 4],\n",
       "        [2, 7, 6, 1]],\n",
       "\n",
       "       [[5, 7, 6, 3],\n",
       "        [6, 8, 5, 6],\n",
       "        [9, 5, 4, 2]]])"
      ]
     },
     "execution_count": 16,
     "metadata": {},
     "output_type": "execute_result"
    }
   ],
   "source": [
    "np.random.randint(0,10,size=(2,3,4))"
   ]
  },
  {
   "cell_type": "markdown",
   "id": "01ff9e4c-1304-4ba2-8113-a8ec6b4aca1a",
   "metadata": {},
   "source": [
    "# 数据查看"
   ]
  },
  {
   "cell_type": "code",
   "execution_count": 17,
   "id": "3d935b78-30f8-4b53-82aa-bbda377908bd",
   "metadata": {},
   "outputs": [
    {
     "data": {
      "text/plain": [
       "array([[0.08193441, 0.24408382, 0.03869483, 0.12510419, 0.80125815],\n",
       "       [0.42899163, 0.56818162, 0.27068934, 0.80288841, 0.60222755],\n",
       "       [0.50963982, 0.99490015, 0.57050292, 0.6423689 , 0.49510708]])"
      ]
     },
     "execution_count": 17,
     "metadata": {},
     "output_type": "execute_result"
    }
   ],
   "source": [
    "arr = np.random.random(size=(3,5))\n",
    "arr"
   ]
  },
  {
   "cell_type": "code",
   "execution_count": 18,
   "id": "1c489ebd-cb04-433a-8ef4-a1a63609c6d5",
   "metadata": {},
   "outputs": [
    {
     "data": {
      "text/plain": [
       "(3, 5)"
      ]
     },
     "execution_count": 18,
     "metadata": {},
     "output_type": "execute_result"
    }
   ],
   "source": [
    "arr.shape"
   ]
  },
  {
   "cell_type": "code",
   "execution_count": 19,
   "id": "6b9a22f5-6b12-4f08-b2d4-7209880c146f",
   "metadata": {},
   "outputs": [
    {
     "data": {
      "text/plain": [
       "dtype('float64')"
      ]
     },
     "execution_count": 19,
     "metadata": {},
     "output_type": "execute_result"
    }
   ],
   "source": [
    "arr.dtype"
   ]
  },
  {
   "cell_type": "code",
   "execution_count": 20,
   "id": "307e7a14-e561-4750-b77a-0e4e17f84732",
   "metadata": {},
   "outputs": [
    {
     "data": {
      "text/plain": [
       "15"
      ]
     },
     "execution_count": 20,
     "metadata": {},
     "output_type": "execute_result"
    }
   ],
   "source": [
    "arr.size"
   ]
  },
  {
   "cell_type": "code",
   "execution_count": 21,
   "id": "9c26034a-30ad-4034-9c84-f1c937f06a6e",
   "metadata": {},
   "outputs": [
    {
     "data": {
      "text/plain": [
       "2"
      ]
     },
     "execution_count": 21,
     "metadata": {},
     "output_type": "execute_result"
    }
   ],
   "source": [
    "arr.ndim"
   ]
  },
  {
   "cell_type": "code",
   "execution_count": 22,
   "id": "099d8a45-7ceb-47ac-a81a-aa2a0f8b9600",
   "metadata": {},
   "outputs": [
    {
     "data": {
      "text/plain": [
       "8"
      ]
     },
     "execution_count": 22,
     "metadata": {},
     "output_type": "execute_result"
    }
   ],
   "source": [
    "arr.itemsize"
   ]
  },
  {
   "cell_type": "markdown",
   "id": "14fbbb21-44b1-45ef-bc92-9c1a3e134cd0",
   "metadata": {},
   "source": [
    "# 文件IO操作"
   ]
  },
  {
   "cell_type": "code",
   "execution_count": 23,
   "id": "4bbb6065-9c40-40b9-b692-d67a476f9d96",
   "metadata": {
    "jp-MarkdownHeadingCollapsed": true
   },
   "outputs": [
    {
     "data": {
      "text/plain": [
       "array([0, 1, 2, 3, 4, 5, 6, 7, 8, 9])"
      ]
     },
     "execution_count": 23,
     "metadata": {},
     "output_type": "execute_result"
    }
   ],
   "source": [
    "arr = np.arange(0,10)\n",
    "arr"
   ]
  },
  {
   "cell_type": "code",
   "execution_count": 24,
   "id": "805761a9-0b68-47ec-a118-be2b44cd883b",
   "metadata": {},
   "outputs": [
    {
     "name": "stdout",
     "output_type": "stream",
     "text": [
      "0\n",
      "3\n",
      "6\n",
      "9\n"
     ]
    }
   ],
   "source": [
    "for i in range(0,10,3):\n",
    "    print(i)"
   ]
  },
  {
   "cell_type": "code",
   "execution_count": 25,
   "id": "3d8f8110-ad38-422e-acbc-bcfa14256ab1",
   "metadata": {},
   "outputs": [
    {
     "data": {
      "text/plain": [
       "[0, 2, 4, 6, 8]"
      ]
     },
     "execution_count": 25,
     "metadata": {},
     "output_type": "execute_result"
    }
   ],
   "source": [
    "[i for i in range(0,10,2)]#列表生成式"
   ]
  },
  {
   "cell_type": "code",
   "execution_count": 26,
   "id": "5bfcfe67-a8dc-4a7a-aa76-6510311b9b06",
   "metadata": {},
   "outputs": [],
   "source": [
    "arr = np.arange(0,10,2)\n",
    "np.save('./data1.npy', arr)"
   ]
  },
  {
   "cell_type": "code",
   "execution_count": 27,
   "id": "7a8afab5-1f3a-4116-8000-651043691ccf",
   "metadata": {},
   "outputs": [
    {
     "data": {
      "text/plain": [
       "array([0, 2, 4, 6, 8])"
      ]
     },
     "execution_count": 27,
     "metadata": {},
     "output_type": "execute_result"
    }
   ],
   "source": [
    "np.load('./data1.npy')"
   ]
  },
  {
   "cell_type": "code",
   "execution_count": 28,
   "id": "b4493105-c991-496f-b4a4-5ab1ad4f754f",
   "metadata": {},
   "outputs": [],
   "source": [
    "arr2 = np.logspace(0,10,base=2,num=11)"
   ]
  },
  {
   "cell_type": "code",
   "execution_count": 29,
   "id": "6cb1510b-be88-4668-8cb2-828c0081a926",
   "metadata": {},
   "outputs": [],
   "source": [
    "np.savez('./data2.npz', x=arr, y=arr2)"
   ]
  },
  {
   "cell_type": "code",
   "execution_count": 30,
   "id": "488ccbba-514b-40c5-9d8d-31ff13c1ad77",
   "metadata": {},
   "outputs": [
    {
     "data": {
      "text/plain": [
       "array([0, 2, 4, 6, 8])"
      ]
     },
     "execution_count": 30,
     "metadata": {},
     "output_type": "execute_result"
    }
   ],
   "source": [
    "np.load('./data2.npz')['x']"
   ]
  },
  {
   "cell_type": "code",
   "execution_count": 31,
   "id": "f3cb6279-f5cd-423f-a244-4f492920a1de",
   "metadata": {},
   "outputs": [
    {
     "data": {
      "text/plain": [
       "array([   1.,    2.,    4.,    8.,   16.,   32.,   64.,  128.,  256.,\n",
       "        512., 1024.])"
      ]
     },
     "execution_count": 31,
     "metadata": {},
     "output_type": "execute_result"
    }
   ],
   "source": [
    "np.load('./data2.npz')['y']"
   ]
  },
  {
   "cell_type": "markdown",
   "id": "3d2b6bb1-abe5-4277-bf61-873985814863",
   "metadata": {},
   "source": [
    "# 数据类型"
   ]
  },
  {
   "cell_type": "code",
   "execution_count": 32,
   "id": "ac415695-242d-48f0-a4ce-50fd4dc676c2",
   "metadata": {},
   "outputs": [
    {
     "data": {
      "text/plain": [
       "array([2, 4, 5], dtype=int16)"
      ]
     },
     "execution_count": 32,
     "metadata": {},
     "output_type": "execute_result"
    }
   ],
   "source": [
    "np.array([2,4,5],dtype=np.int16)"
   ]
  },
  {
   "cell_type": "code",
   "execution_count": 33,
   "id": "0d3567b8-683a-468a-a4dc-3749a7d4246c",
   "metadata": {},
   "outputs": [],
   "source": [
    "arr = np.random.randint(0,100,size=(100,50), dtype=np.int8)\n",
    "np.save('data3int8',arr)"
   ]
  },
  {
   "cell_type": "code",
   "execution_count": 34,
   "id": "8d0f1c63-ebbc-4206-b340-8adb38c5295b",
   "metadata": {},
   "outputs": [],
   "source": [
    "arr = np.random.randint(0,100,size=(100,50), dtype=np.int64)\n",
    "np.save('data3int64',arr)"
   ]
  },
  {
   "cell_type": "code",
   "execution_count": 35,
   "id": "3994e72e-65de-4bf7-9699-feeda28e06b2",
   "metadata": {},
   "outputs": [
    {
     "data": {
      "text/plain": [
       "array([-128, -127, -126, -125, -124, -123, -122, -121, -120, -119, -118,\n",
       "       -117, -116, -115, -114, -113, -112, -111, -110, -109, -108, -107,\n",
       "       -106, -105, -104, -103, -102, -101, -100,  -99,  -98,  -97,  -96,\n",
       "        -95,  -94,  -93,  -92,  -91,  -90,  -89,  -88,  -87,  -86,  -85,\n",
       "        -84,  -83,  -82,  -81,  -80,  -79,  -78,  -77,  -76,  -75,  -74,\n",
       "        -73,  -72,  -71,  -70,  -69,  -68,  -67,  -66,  -65,  -64,  -63,\n",
       "        -62,  -61,  -60,  -59,  -58,  -57,  -56,  -55,  -54,  -53,  -52,\n",
       "        -51,  -50,  -49,  -48,  -47,  -46,  -45,  -44,  -43,  -42,  -41,\n",
       "        -40,  -39,  -38,  -37,  -36,  -35,  -34,  -33,  -32,  -31,  -30,\n",
       "        -29,  -28,  -27,  -26,  -25,  -24,  -23,  -22,  -21,  -20,  -19,\n",
       "        -18,  -17,  -16,  -15,  -14,  -13,  -12,  -11,  -10,   -9,   -8,\n",
       "         -7,   -6,   -5,   -4,   -3,   -2,   -1,    0,    1,    2,    3,\n",
       "          4,    5,    6,    7,    8,    9,   10,   11,   12,   13,   14,\n",
       "         15,   16,   17,   18,   19,   20,   21,   22,   23,   24,   25,\n",
       "         26,   27,   28,   29,   30,   31,   32,   33,   34,   35,   36,\n",
       "         37,   38,   39,   40,   41,   42,   43,   44,   45,   46,   47,\n",
       "         48,   49,   50,   51,   52,   53,   54,   55,   56,   57,   58,\n",
       "         59,   60,   61,   62,   63,   64,   65,   66,   67,   68,   69,\n",
       "         70,   71,   72,   73,   74,   75,   76,   77,   78,   79,   80,\n",
       "         81,   82,   83,   84,   85,   86,   87,   88,   89,   90,   91,\n",
       "         92,   93,   94,   95,   96,   97,   98,   99,  100,  101,  102,\n",
       "        103,  104,  105,  106,  107,  108,  109,  110,  111,  112,  113,\n",
       "        114,  115,  116,  117,  118,  119,  120,  121,  122,  123,  124,\n",
       "        125,  126,  127], dtype=int8)"
      ]
     },
     "execution_count": 35,
     "metadata": {},
     "output_type": "execute_result"
    }
   ],
   "source": [
    "arr1 = np.arange(-128,128,dtype=np.int8)\n",
    "arr1\n"
   ]
  },
  {
   "cell_type": "code",
   "execution_count": 36,
   "id": "05022712-072b-4acf-b39d-4bfcdee7513b",
   "metadata": {},
   "outputs": [
    {
     "name": "stderr",
     "output_type": "stream",
     "text": [
      "/tmp/ipykernel_581/770431717.py:1: DeprecationWarning: NumPy will stop allowing conversion of out-of-bound Python integers to integer arrays.  The conversion of -128 to uint8 will fail in the future.\n",
      "For the old behavior, usually:\n",
      "    np.array(value).astype(dtype)\n",
      "will give the desired result (the cast overflows).\n",
      "  arr1 = np.arange(-128,128,dtype=np.uint8)\n",
      "/tmp/ipykernel_581/770431717.py:1: DeprecationWarning: NumPy will stop allowing conversion of out-of-bound Python integers to integer arrays.  The conversion of -127 to uint8 will fail in the future.\n",
      "For the old behavior, usually:\n",
      "    np.array(value).astype(dtype)\n",
      "will give the desired result (the cast overflows).\n",
      "  arr1 = np.arange(-128,128,dtype=np.uint8)\n"
     ]
    },
    {
     "data": {
      "text/plain": [
       "array([128, 129, 130, 131, 132, 133, 134, 135, 136, 137, 138, 139, 140,\n",
       "       141, 142, 143, 144, 145, 146, 147, 148, 149, 150, 151, 152, 153,\n",
       "       154, 155, 156, 157, 158, 159, 160, 161, 162, 163, 164, 165, 166,\n",
       "       167, 168, 169, 170, 171, 172, 173, 174, 175, 176, 177, 178, 179,\n",
       "       180, 181, 182, 183, 184, 185, 186, 187, 188, 189, 190, 191, 192,\n",
       "       193, 194, 195, 196, 197, 198, 199, 200, 201, 202, 203, 204, 205,\n",
       "       206, 207, 208, 209, 210, 211, 212, 213, 214, 215, 216, 217, 218,\n",
       "       219, 220, 221, 222, 223, 224, 225, 226, 227, 228, 229, 230, 231,\n",
       "       232, 233, 234, 235, 236, 237, 238, 239, 240, 241, 242, 243, 244,\n",
       "       245, 246, 247, 248, 249, 250, 251, 252, 253, 254, 255,   0,   1,\n",
       "         2,   3,   4,   5,   6,   7,   8,   9,  10,  11,  12,  13,  14,\n",
       "        15,  16,  17,  18,  19,  20,  21,  22,  23,  24,  25,  26,  27,\n",
       "        28,  29,  30,  31,  32,  33,  34,  35,  36,  37,  38,  39,  40,\n",
       "        41,  42,  43,  44,  45,  46,  47,  48,  49,  50,  51,  52,  53,\n",
       "        54,  55,  56,  57,  58,  59,  60,  61,  62,  63,  64,  65,  66,\n",
       "        67,  68,  69,  70,  71,  72,  73,  74,  75,  76,  77,  78,  79,\n",
       "        80,  81,  82,  83,  84,  85,  86,  87,  88,  89,  90,  91,  92,\n",
       "        93,  94,  95,  96,  97,  98,  99, 100, 101, 102, 103, 104, 105,\n",
       "       106, 107, 108, 109, 110, 111, 112, 113, 114, 115, 116, 117, 118,\n",
       "       119, 120, 121, 122, 123, 124, 125, 126, 127], dtype=uint8)"
      ]
     },
     "execution_count": 36,
     "metadata": {},
     "output_type": "execute_result"
    }
   ],
   "source": [
    "arr1 = np.arange(-128,128,dtype=np.uint8)\n",
    "arr1"
   ]
  },
  {
   "cell_type": "code",
   "execution_count": 37,
   "id": "c5740eb6-e828-41f7-a308-c3a088197cc5",
   "metadata": {},
   "outputs": [
    {
     "data": {
      "text/plain": [
       "dtype('uint8')"
      ]
     },
     "execution_count": 37,
     "metadata": {},
     "output_type": "execute_result"
    }
   ],
   "source": [
    "arr1.dtype"
   ]
  },
  {
   "cell_type": "code",
   "execution_count": 38,
   "id": "e4cbdc0c-7e77-4621-8220-057c28ca0c5c",
   "metadata": {},
   "outputs": [
    {
     "data": {
      "text/plain": [
       "array([128., 129., 130., 131., 132., 133., 134., 135., 136., 137., 138.,\n",
       "       139., 140., 141., 142., 143., 144., 145., 146., 147., 148., 149.,\n",
       "       150., 151., 152., 153., 154., 155., 156., 157., 158., 159., 160.,\n",
       "       161., 162., 163., 164., 165., 166., 167., 168., 169., 170., 171.,\n",
       "       172., 173., 174., 175., 176., 177., 178., 179., 180., 181., 182.,\n",
       "       183., 184., 185., 186., 187., 188., 189., 190., 191., 192., 193.,\n",
       "       194., 195., 196., 197., 198., 199., 200., 201., 202., 203., 204.,\n",
       "       205., 206., 207., 208., 209., 210., 211., 212., 213., 214., 215.,\n",
       "       216., 217., 218., 219., 220., 221., 222., 223., 224., 225., 226.,\n",
       "       227., 228., 229., 230., 231., 232., 233., 234., 235., 236., 237.,\n",
       "       238., 239., 240., 241., 242., 243., 244., 245., 246., 247., 248.,\n",
       "       249., 250., 251., 252., 253., 254., 255.,   0.,   1.,   2.,   3.,\n",
       "         4.,   5.,   6.,   7.,   8.,   9.,  10.,  11.,  12.,  13.,  14.,\n",
       "        15.,  16.,  17.,  18.,  19.,  20.,  21.,  22.,  23.,  24.,  25.,\n",
       "        26.,  27.,  28.,  29.,  30.,  31.,  32.,  33.,  34.,  35.,  36.,\n",
       "        37.,  38.,  39.,  40.,  41.,  42.,  43.,  44.,  45.,  46.,  47.,\n",
       "        48.,  49.,  50.,  51.,  52.,  53.,  54.,  55.,  56.,  57.,  58.,\n",
       "        59.,  60.,  61.,  62.,  63.,  64.,  65.,  66.,  67.,  68.,  69.,\n",
       "        70.,  71.,  72.,  73.,  74.,  75.,  76.,  77.,  78.,  79.,  80.,\n",
       "        81.,  82.,  83.,  84.,  85.,  86.,  87.,  88.,  89.,  90.,  91.,\n",
       "        92.,  93.,  94.,  95.,  96.,  97.,  98.,  99., 100., 101., 102.,\n",
       "       103., 104., 105., 106., 107., 108., 109., 110., 111., 112., 113.,\n",
       "       114., 115., 116., 117., 118., 119., 120., 121., 122., 123., 124.,\n",
       "       125., 126., 127.], dtype=float32)"
      ]
     },
     "execution_count": 38,
     "metadata": {},
     "output_type": "execute_result"
    }
   ],
   "source": [
    "#转换数据类型\n",
    "arr1.astype(np.float32)"
   ]
  },
  {
   "cell_type": "markdown",
   "id": "aa10e1bd-8f6d-4a27-bfe8-aa7ac005bf88",
   "metadata": {},
   "source": [
    "# 数组运算"
   ]
  },
  {
   "cell_type": "code",
   "execution_count": 39,
   "id": "2bf214a4-5b9a-4ee2-bfc3-b38d0d306256",
   "metadata": {},
   "outputs": [
    {
     "data": {
      "text/plain": [
       "array([[9, 5, 5, 4, 5],\n",
       "       [7, 4, 5, 1, 0],\n",
       "       [6, 1, 2, 1, 9]])"
      ]
     },
     "execution_count": 39,
     "metadata": {},
     "output_type": "execute_result"
    }
   ],
   "source": [
    "nd = np.random.randint(0,10,size=(3,5))\n",
    "nd"
   ]
  },
  {
   "cell_type": "code",
   "execution_count": 40,
   "id": "6bcea75b-0054-4edd-aabd-18637ee16dae",
   "metadata": {},
   "outputs": [
    {
     "data": {
      "text/plain": [
       "array([[ 4,  0,  0, -1,  0],\n",
       "       [ 2, -1,  0, -4, -5],\n",
       "       [ 1, -4, -3, -4,  4]])"
      ]
     },
     "execution_count": 40,
     "metadata": {},
     "output_type": "execute_result"
    }
   ],
   "source": [
    "nd - 5"
   ]
  },
  {
   "cell_type": "code",
   "execution_count": 41,
   "id": "876febd6-f253-464d-9715-3554d019de6c",
   "metadata": {},
   "outputs": [
    {
     "data": {
      "text/plain": [
       "array([[81, 25, 25, 16, 25],\n",
       "       [49, 16, 25,  1,  0],\n",
       "       [36,  1,  4,  1, 81]])"
      ]
     },
     "execution_count": 41,
     "metadata": {},
     "output_type": "execute_result"
    }
   ],
   "source": [
    "nd ** 2"
   ]
  },
  {
   "cell_type": "code",
   "execution_count": 42,
   "id": "a8ddc412-65af-42d3-b545-3915d3ff3005",
   "metadata": {},
   "outputs": [
    {
     "data": {
      "text/plain": [
       "array([[729, 125, 125,  64, 125],\n",
       "       [343,  64, 125,   1,   0],\n",
       "       [216,   1,   8,   1, 729]])"
      ]
     },
     "execution_count": 42,
     "metadata": {},
     "output_type": "execute_result"
    }
   ],
   "source": [
    "np.power(nd,3)"
   ]
  },
  {
   "cell_type": "code",
   "execution_count": 43,
   "id": "8acb018d-f343-40a5-ae2b-a4b7b4ab90c9",
   "metadata": {},
   "outputs": [
    {
     "data": {
      "text/plain": [
       "array([[4.5, 2.5, 2.5, 2. , 2.5],\n",
       "       [3.5, 2. , 2.5, 0.5, 0. ],\n",
       "       [3. , 0.5, 1. , 0.5, 4.5]])"
      ]
     },
     "execution_count": 43,
     "metadata": {},
     "output_type": "execute_result"
    }
   ],
   "source": [
    "nd/2"
   ]
  },
  {
   "cell_type": "code",
   "execution_count": 44,
   "id": "857cbb3e-969c-4fe5-bcb3-cae01acd6388",
   "metadata": {},
   "outputs": [
    {
     "data": {
      "text/plain": [
       "array([[1, 1, 1, 0, 1],\n",
       "       [1, 0, 1, 1, 0],\n",
       "       [0, 1, 0, 1, 1]])"
      ]
     },
     "execution_count": 44,
     "metadata": {},
     "output_type": "execute_result"
    }
   ],
   "source": [
    "nd%2"
   ]
  },
  {
   "cell_type": "code",
   "execution_count": 45,
   "id": "ba3f16ff-963f-4331-a095-23611a341341",
   "metadata": {},
   "outputs": [
    {
     "data": {
      "text/plain": [
       "array([[4, 2, 2, 2, 2],\n",
       "       [3, 2, 2, 0, 0],\n",
       "       [3, 0, 1, 0, 4]])"
      ]
     },
     "execution_count": 45,
     "metadata": {},
     "output_type": "execute_result"
    }
   ],
   "source": [
    "nd // 2"
   ]
  },
  {
   "cell_type": "code",
   "execution_count": 46,
   "id": "3327a0b2-bd28-40c5-9715-27d30853fdb7",
   "metadata": {},
   "outputs": [
    {
     "data": {
      "text/plain": [
       "array([[ True,  True,  True,  True,  True],\n",
       "       [ True,  True,  True, False, False],\n",
       "       [ True, False, False, False,  True]])"
      ]
     },
     "execution_count": 46,
     "metadata": {},
     "output_type": "execute_result"
    }
   ],
   "source": [
    "nd > 2"
   ]
  },
  {
   "cell_type": "code",
   "execution_count": 47,
   "id": "d355850b-8cce-4494-9fd1-21bed03a947d",
   "metadata": {},
   "outputs": [
    {
     "data": {
      "text/plain": [
       "array([[False, False, False, False, False],\n",
       "       [False, False, False, False,  True],\n",
       "       [False, False, False, False, False]])"
      ]
     },
     "execution_count": 47,
     "metadata": {},
     "output_type": "execute_result"
    }
   ],
   "source": [
    "nd == 0"
   ]
  },
  {
   "cell_type": "code",
   "execution_count": 48,
   "id": "de16a012-5c15-4273-896d-074875439070",
   "metadata": {},
   "outputs": [
    {
     "data": {
      "text/plain": [
       "array([[False, False, False,  True, False],\n",
       "       [False,  True, False, False, False],\n",
       "       [False, False, False, False, False]])"
      ]
     },
     "execution_count": 48,
     "metadata": {},
     "output_type": "execute_result"
    }
   ],
   "source": [
    "nd == 4"
   ]
  },
  {
   "cell_type": "code",
   "execution_count": 49,
   "id": "70a81641-0358-4c57-a000-32cb3faa6be4",
   "metadata": {},
   "outputs": [
    {
     "data": {
      "text/plain": [
       "array([[109, 105, 105, 104, 105],\n",
       "       [107, 104, 105, 101, 100],\n",
       "       [106, 101, 102, 101, 109]])"
      ]
     },
     "execution_count": 49,
     "metadata": {},
     "output_type": "execute_result"
    }
   ],
   "source": [
    "nd+=100\n",
    "nd"
   ]
  },
  {
   "cell_type": "code",
   "execution_count": 50,
   "id": "95ed2078-09c1-4b2b-ba33-01f9708f56c6",
   "metadata": {},
   "outputs": [
    {
     "data": {
      "text/plain": [
       "array([[False, False, False, False, False],\n",
       "       [False, False, False, False, False],\n",
       "       [False, False, False, False, False]])"
      ]
     },
     "execution_count": 50,
     "metadata": {},
     "output_type": "execute_result"
    }
   ],
   "source": [
    "nd == 207"
   ]
  },
  {
   "cell_type": "code",
   "execution_count": 51,
   "id": "dd5b12bf-cfcb-47d8-b212-310a0df4bb10",
   "metadata": {},
   "outputs": [
    {
     "data": {
      "text/plain": [
       "array([[False, False, False, False, False],\n",
       "       [False, False, False, False, False],\n",
       "       [False, False, False, False, False]])"
      ]
     },
     "execution_count": 51,
     "metadata": {},
     "output_type": "execute_result"
    }
   ],
   "source": [
    "nd == 0 # *= -=不支持/="
   ]
  },
  {
   "cell_type": "code",
   "execution_count": 52,
   "id": "a0e7d531-dc2e-4497-aa2f-be443fad33cd",
   "metadata": {},
   "outputs": [],
   "source": [
    "nd//=1"
   ]
  },
  {
   "cell_type": "markdown",
   "id": "1157564f-11a4-4de6-a9e2-148965d9de16",
   "metadata": {},
   "source": [
    "# 索引，切片和迭代"
   ]
  },
  {
   "cell_type": "markdown",
   "id": "91964ebc-17ae-4dc0-8d2c-af0e4a90940f",
   "metadata": {},
   "source": [
    "## 一维数组索引和切片"
   ]
  },
  {
   "cell_type": "code",
   "execution_count": 53,
   "id": "7681e9b4-3ffe-449f-9bd9-b4c5f94317f8",
   "metadata": {},
   "outputs": [
    {
     "data": {
      "text/plain": [
       "array([99, 68, 62, 93, 62, 67, 24, 30, 89, 52])"
      ]
     },
     "execution_count": 53,
     "metadata": {},
     "output_type": "execute_result"
    }
   ],
   "source": [
    "arr = np.random.randint(0,100,size=10)\n",
    "arr"
   ]
  },
  {
   "cell_type": "code",
   "execution_count": 54,
   "id": "199ba840-0728-44e9-afe3-c12d2bcc025a",
   "metadata": {},
   "outputs": [
    {
     "data": {
      "text/plain": [
       "62"
      ]
     },
     "execution_count": 54,
     "metadata": {},
     "output_type": "execute_result"
    }
   ],
   "source": [
    "arr[2]"
   ]
  },
  {
   "cell_type": "code",
   "execution_count": 55,
   "id": "988dbcf2-799b-4f1e-9b6f-12ea2f175ec6",
   "metadata": {},
   "outputs": [
    {
     "data": {
      "text/plain": [
       "array([99, 93, 67])"
      ]
     },
     "execution_count": 55,
     "metadata": {},
     "output_type": "execute_result"
    }
   ],
   "source": [
    "arr[[0,3,5]]"
   ]
  },
  {
   "cell_type": "code",
   "execution_count": 56,
   "id": "1ee1ee27-c0f5-4176-954e-050bd8e69e03",
   "metadata": {},
   "outputs": [
    {
     "data": {
      "text/plain": [
       "array([93, 62, 67])"
      ]
     },
     "execution_count": 56,
     "metadata": {},
     "output_type": "execute_result"
    }
   ],
   "source": [
    "arr[3:6]"
   ]
  },
  {
   "cell_type": "code",
   "execution_count": 57,
   "id": "872281c7-6620-403a-bcf9-ad6ae9996472",
   "metadata": {},
   "outputs": [
    {
     "data": {
      "text/plain": [
       "array([93, 67])"
      ]
     },
     "execution_count": 57,
     "metadata": {},
     "output_type": "execute_result"
    }
   ],
   "source": [
    "arr[3:6:2]#从3到6，步长为2"
   ]
  },
  {
   "cell_type": "code",
   "execution_count": 58,
   "id": "73fddbc6-3e45-4dc1-a155-1c0333aaf733",
   "metadata": {},
   "outputs": [
    {
     "data": {
      "text/plain": [
       "array([99, 62, 62, 24, 89])"
      ]
     },
     "execution_count": 58,
     "metadata": {},
     "output_type": "execute_result"
    }
   ],
   "source": [
    "arr[::2]"
   ]
  },
  {
   "cell_type": "code",
   "execution_count": 59,
   "id": "47e08d84-1d15-43fb-9eb4-21f98031a30d",
   "metadata": {},
   "outputs": [
    {
     "data": {
      "text/plain": [
       "array([52, 89, 30, 24, 67, 62, 93, 62, 68, 99])"
      ]
     },
     "execution_count": 59,
     "metadata": {},
     "output_type": "execute_result"
    }
   ],
   "source": [
    "arr[::-1]"
   ]
  },
  {
   "cell_type": "markdown",
   "id": "a459c9ab-1ee5-440d-9e88-e698938b949a",
   "metadata": {},
   "source": [
    "## 二维数组的索引和切片"
   ]
  },
  {
   "cell_type": "code",
   "execution_count": 60,
   "id": "2283926a-0ef4-415c-8135-5494ee5a882b",
   "metadata": {},
   "outputs": [
    {
     "data": {
      "text/plain": [
       "array([[34, 99, 33, 62, 49],\n",
       "       [96, 99, 92, 51, 65],\n",
       "       [52, 26, 62, 77, 31]])"
      ]
     },
     "execution_count": 60,
     "metadata": {},
     "output_type": "execute_result"
    }
   ],
   "source": [
    "arr= np.random.randint(0,100,size=(3,5))\n",
    "arr"
   ]
  },
  {
   "cell_type": "code",
   "execution_count": 61,
   "id": "880aae5b-dea1-43c1-b7bd-def65b59bdd5",
   "metadata": {},
   "outputs": [
    {
     "data": {
      "text/plain": [
       "33"
      ]
     },
     "execution_count": 61,
     "metadata": {},
     "output_type": "execute_result"
    }
   ],
   "source": [
    "arr[0,2]"
   ]
  },
  {
   "cell_type": "code",
   "execution_count": 62,
   "id": "e70ab444-01e0-4a1d-aaf4-26b00fb95d96",
   "metadata": {},
   "outputs": [
    {
     "data": {
      "text/plain": [
       "array([99, 92])"
      ]
     },
     "execution_count": 62,
     "metadata": {},
     "output_type": "execute_result"
    }
   ],
   "source": [
    "arr[1,[1,2]]"
   ]
  },
  {
   "cell_type": "code",
   "execution_count": 63,
   "id": "01e7ac19-1259-41a4-852a-46e4140b627c",
   "metadata": {
    "scrolled": true
   },
   "outputs": [
    {
     "data": {
      "text/plain": [
       "array([51, 31])"
      ]
     },
     "execution_count": 63,
     "metadata": {},
     "output_type": "execute_result"
    }
   ],
   "source": [
    "arr[[1,2],[3,4]]"
   ]
  },
  {
   "cell_type": "code",
   "execution_count": 64,
   "id": "072165ab-dd4e-4994-b7b3-cc54d5e3cf22",
   "metadata": {
    "scrolled": true
   },
   "outputs": [
    {
     "data": {
      "text/plain": [
       "array([[51, 65],\n",
       "       [77, 31]])"
      ]
     },
     "execution_count": 64,
     "metadata": {},
     "output_type": "execute_result"
    }
   ],
   "source": [
    "arr[[1,2],3:]#第二行和第三行的第四列第五列数据，索引和切片配合"
   ]
  },
  {
   "cell_type": "code",
   "execution_count": 68,
   "id": "6ab80a2d-4f2d-4e7e-be77-c17ea6419d65",
   "metadata": {},
   "outputs": [
    {
     "data": {
      "text/plain": [
       "array([[62, 49],\n",
       "       [77, 31]])"
      ]
     },
     "execution_count": 68,
     "metadata": {},
     "output_type": "execute_result"
    }
   ],
   "source": [
    "arr[[0,2]][:,[3,4]]"
   ]
  },
  {
   "cell_type": "code",
   "execution_count": 69,
   "id": "4900504c-5490-4154-afe0-d80872d8b2a7",
   "metadata": {},
   "outputs": [
    {
     "data": {
      "text/plain": [
       "array([[  34,   99,   33,   62,   49],\n",
       "       [  96,   99,   92,   51,   65],\n",
       "       [  52,   26, 1024,   77,   31]])"
      ]
     },
     "execution_count": 69,
     "metadata": {},
     "output_type": "execute_result"
    }
   ],
   "source": [
    "arr[2,2]=1024\n",
    "arr"
   ]
  },
  {
   "cell_type": "markdown",
   "id": "81d24b65-f7f7-41a2-8214-7c5c5dcabbef",
   "metadata": {},
   "source": [
    "## 花式索引"
   ]
  },
  {
   "cell_type": "code",
   "execution_count": 2,
   "id": "50f526ee-0e57-41bc-9dfa-051565a5b2c8",
   "metadata": {},
   "outputs": [
    {
     "data": {
      "text/plain": [
       "array([ 8, 98, 82, 77, 81, 42, 67, 76, 45, 58, 21, 17, 92, 37, 38, 15, 53,\n",
       "       80,  7, 28])"
      ]
     },
     "execution_count": 2,
     "metadata": {},
     "output_type": "execute_result"
    }
   ],
   "source": [
    "import numpy as np\n",
    "arr = np.random.randint(0,100,size=20)\n",
    "arr"
   ]
  },
  {
   "cell_type": "code",
   "execution_count": 3,
   "id": "39d5b17e-883a-48c5-95e8-bb1ae2e624f0",
   "metadata": {},
   "outputs": [
    {
     "data": {
      "text/plain": [
       "array([77, 42, 76])"
      ]
     },
     "execution_count": 3,
     "metadata": {},
     "output_type": "execute_result"
    }
   ],
   "source": [
    "arr[[3,5,7]]"
   ]
  },
  {
   "cell_type": "code",
   "execution_count": 4,
   "id": "52c294a5-6bfd-4dcb-9d4e-3cbe6a8517d4",
   "metadata": {},
   "outputs": [
    {
     "data": {
      "text/plain": [
       "array([False,  True,  True,  True,  True, False,  True,  True, False,\n",
       "       False, False, False,  True, False, False, False, False,  True,\n",
       "       False, False])"
      ]
     },
     "execution_count": 4,
     "metadata": {},
     "output_type": "execute_result"
    }
   ],
   "source": [
    "arr > 60"
   ]
  },
  {
   "cell_type": "code",
   "execution_count": 5,
   "id": "ae041a0b-e4a0-442d-8f95-9110cf8bc4ef",
   "metadata": {},
   "outputs": [
    {
     "data": {
      "text/plain": [
       "array([98, 82, 77, 81, 67, 76, 92, 80])"
      ]
     },
     "execution_count": 5,
     "metadata": {},
     "output_type": "execute_result"
    }
   ],
   "source": [
    "arr[arr>60]"
   ]
  },
  {
   "cell_type": "code",
   "execution_count": 11,
   "id": "a6c3f105-e946-4009-93c1-163a2ecb70f0",
   "metadata": {},
   "outputs": [
    {
     "data": {
      "text/plain": [
       "array([], dtype=int64)"
      ]
     },
     "execution_count": 11,
     "metadata": {},
     "output_type": "execute_result"
    }
   ],
   "source": [
    "cond1 = arr < 30 \n",
    "cond2 = arr > 80\n",
    "arr[cond1 | cond2]"
   ]
  },
  {
   "cell_type": "code",
   "execution_count": 10,
   "id": "d84315cb-5a17-4efe-9d44-b286e73d466c",
   "metadata": {},
   "outputs": [
    {
     "data": {
      "text/plain": [
       "array([98, 82, 81, 92])"
      ]
     },
     "execution_count": 10,
     "metadata": {},
     "output_type": "execute_result"
    }
   ],
   "source": [
    "arr[cond]"
   ]
  },
  {
   "cell_type": "code",
   "execution_count": null,
   "id": "dc69d730-f811-49a8-a216-f5862fe8cb40",
   "metadata": {},
   "outputs": [],
   "source": []
  }
 ],
 "metadata": {
  "kernelspec": {
   "display_name": "Python 3 (ipykernel)",
   "language": "python",
   "name": "python3"
  },
  "language_info": {
   "codemirror_mode": {
    "name": "ipython",
    "version": 3
   },
   "file_extension": ".py",
   "mimetype": "text/x-python",
   "name": "python",
   "nbconvert_exporter": "python",
   "pygments_lexer": "ipython3",
   "version": "3.10.12"
  }
 },
 "nbformat": 4,
 "nbformat_minor": 5
}
